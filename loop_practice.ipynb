{
 "cells": [
  {
   "cell_type": "code",
   "execution_count": null,
   "id": "28156ad7-882a-4b51-9a88-b31bc21f87ff",
   "metadata": {},
   "outputs": [],
   "source": [
    "no=int(input('enter number'))\n",
    "sum=0\n",
    "for i in range(1,no+1):\n",
    "    sum+=1\n",
    "print"
   ]
  },
  {
   "cell_type": "code",
   "execution_count": null,
   "id": "69847120-359f-42ac-b1ce-b7c90c1f2615",
   "metadata": {},
   "outputs": [],
   "source": []
  }
 ],
 "metadata": {
  "kernelspec": {
   "display_name": "Python 3 (ipykernel)",
   "language": "python",
   "name": "python3"
  },
  "language_info": {
   "codemirror_mode": {
    "name": "ipython",
    "version": 3
   },
   "file_extension": ".py",
   "mimetype": "text/x-python",
   "name": "python",
   "nbconvert_exporter": "python",
   "pygments_lexer": "ipython3",
   "version": "3.12.4"
  }
 },
 "nbformat": 4,
 "nbformat_minor": 5
}
